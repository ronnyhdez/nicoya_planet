{
 "cells": [
  {
   "cell_type": "markdown",
   "metadata": {},
   "source": [
    "# EDA of Vegetation Indices in Nicoya\n",
    "\n",
    "An exploration on the steps to obtain the VIs in the Planet Scope\n",
    "satellite image from Nicoya"
   ]
  },
  {
   "cell_type": "markdown",
   "metadata": {},
   "source": [
    "## Vegetation indices\n",
    "\n",
    " - Given that we have 4 bands, we can calculate some indices\n",
    " - NDVI = nir - red / nir + red\n",
    " - NIRv = nir * (nir - red / nir + red)\n",
    " - EVI = "
   ]
  },
  {
   "cell_type": "code",
   "execution_count": null,
   "metadata": {},
   "outputs": [],
   "source": []
  }
 ],
 "metadata": {
  "kernelspec": {
   "display_name": "nicoya_planet-gz-gIiS1",
   "language": "python",
   "name": "python3"
  },
  "language_info": {
   "name": "python",
   "version": "3.10.12"
  }
 },
 "nbformat": 4,
 "nbformat_minor": 2
}
